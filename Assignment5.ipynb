{
  "nbformat": 4,
  "nbformat_minor": 0,
  "metadata": {
    "colab": {
      "provenance": []
    },
    "kernelspec": {
      "name": "python3",
      "display_name": "Python 3"
    },
    "language_info": {
      "name": "python"
    }
  },
  "cells": [
    {
      "cell_type": "code",
      "execution_count": null,
      "metadata": {
        "colab": {
          "base_uri": "https://localhost:8080/"
        },
        "id": "UXZHP_-_nhJb",
        "outputId": "c7e16e99-6377-4b7e-d973-6adc6f4a8b89"
      },
      "outputs": [
        {
          "output_type": "stream",
          "name": "stdout",
          "text": [
            "Original Set: {50, 20, 40, 10, 30}\n",
            "After Adding 60: {50, 20, 40, 10, 60, 30}\n",
            "After Removing 20: {50, 40, 10, 60, 30}\n",
            "Is 30 in the set? True\n"
          ]
        }
      ],
      "source": [
        "#Basic Operations:\n",
        "# Create a set with five different numbers\n",
        "numbers = {10, 20, 30, 40, 50}\n",
        "print(\"Original Set:\", numbers)\n",
        "\n",
        "# Add an element\n",
        "numbers.add(60)\n",
        "print(\"After Adding 60:\", numbers)\n",
        "numbers.remove(20)\n",
        "print(\"After Removing 20:\", numbers)\n",
        "\n",
        "# Check if an element exists\n",
        "print(\"Is 30 in the set?\", 30 in numbers)\n"
      ]
    },
    {
      "cell_type": "code",
      "source": [
        "#Set Operations:\n",
        "A = {1, 2, 3, 4}\n",
        "B = {3, 4, 5, 6}\n",
        "print(\"Set A:\", A)\n",
        "print(\"Set B:\", B)\n",
        "print(\"Union:\", A | B)\n",
        "print(\"Intersection:\", A & B)\n",
        "print(\"Difference (A - B):\", A - B)\n",
        "print(\"Difference (B - A):\", B - A)\n",
        "X = {1, 2}\n",
        "Y = {1, 2, 3, 4}\n",
        "print(\"Is X a subset of Y?\", X.issubset(Y))\n",
        "\n"
      ],
      "metadata": {
        "colab": {
          "base_uri": "https://localhost:8080/"
        },
        "id": "HaNqQ4Cep9FP",
        "outputId": "4ae2c879-516d-44f8-fa80-43d5e3fbc216"
      },
      "execution_count": null,
      "outputs": [
        {
          "output_type": "stream",
          "name": "stdout",
          "text": [
            "Set A: {1, 2, 3, 4}\n",
            "Set B: {3, 4, 5, 6}\n",
            "Union: {1, 2, 3, 4, 5, 6}\n",
            "Intersection: {3, 4}\n",
            "Difference (A - B): {1, 2}\n",
            "Difference (B - A): {5, 6}\n",
            "Is X a subset of Y? True\n"
          ]
        }
      ]
    },
    {
      "cell_type": "code",
      "source": [
        "#Unique Elemets:\n",
        "my_list = [1, 2, 2, 3, 4, 4, 5]\n",
        "unique_set = set(my_list)\n",
        "print(\"Original List:\", my_list)\n",
        "print(\"Unique Elements:\", unique_set)\n"
      ],
      "metadata": {
        "colab": {
          "base_uri": "https://localhost:8080/"
        },
        "id": "z1pz0g1Gq7gc",
        "outputId": "add9208d-18ca-4d0a-c507-5db4000e9869"
      },
      "execution_count": null,
      "outputs": [
        {
          "output_type": "stream",
          "name": "stdout",
          "text": [
            "Original List: [1, 2, 2, 3, 4, 4, 5]\n",
            "Unique Elements: {1, 2, 3, 4, 5}\n"
          ]
        }
      ]
    },
    {
      "cell_type": "code",
      "source": [
        "#Mathematical Applications:\n",
        "#Students in two courses:\n",
        "course_A = {\"Alice\", \"Bob\", \"Charlie\"}\n",
        "course_B = {\"Charlie\", \"David\", \"Eve\"}\n",
        "\n",
        "both_courses = course_A & course_B\n",
        "print(\"Students in both courses:\", both_courses)\n",
        "\n",
        "#Common elements in three sets:\n",
        "set1 = {1, 2, 3, 4}\n",
        "set2 = {2, 3, 5}\n",
        "set3 = {0, 2, 3, 6}\n",
        "\n",
        "common = set1 & set2 & set3\n",
        "print(\"Common Elements:\", common)\n"
      ],
      "metadata": {
        "colab": {
          "base_uri": "https://localhost:8080/"
        },
        "id": "BOrIJY6nrKG3",
        "outputId": "b8062868-1289-482a-ec18-6415db7dd295"
      },
      "execution_count": null,
      "outputs": [
        {
          "output_type": "stream",
          "name": "stdout",
          "text": [
            "Students in both courses: {'Charlie'}\n",
            "Common Elements: {2, 3}\n"
          ]
        }
      ]
    },
    {
      "cell_type": "code",
      "source": [
        "#Set comprehension:\n",
        "squares = {x**2 for x in range(1, 11)}\n",
        "print(\"Squares from 1 to 10:\", squares)\n"
      ],
      "metadata": {
        "colab": {
          "base_uri": "https://localhost:8080/"
        },
        "id": "O1G2LErlroST",
        "outputId": "17286c39-0d96-4ef6-ff36-b948fe69a271"
      },
      "execution_count": null,
      "outputs": [
        {
          "output_type": "stream",
          "name": "stdout",
          "text": [
            "Squares from 1 to 10: {64, 1, 4, 36, 100, 9, 16, 49, 81, 25}\n"
          ]
        }
      ]
    },
    {
      "cell_type": "code",
      "source": [
        "#Frozen Sets:\n",
        "#immutable_set = frozenset([1, 2, 3, 4]) # This line was commented out\n",
        "immutable_set = frozenset([1, 2, 3, 4]) # remove the comment to create the variable\n",
        "print(\"Frozenset:\", immutable_set)\n",
        "\n"
      ],
      "metadata": {
        "colab": {
          "base_uri": "https://localhost:8080/"
        },
        "id": "fhrYtI7NsSEw",
        "outputId": "09439804-c09c-4aaf-a116-ddbfe6768ef5"
      },
      "execution_count": null,
      "outputs": [
        {
          "output_type": "stream",
          "name": "stdout",
          "text": [
            "Frozenset: frozenset({1, 2, 3, 4})\n"
          ]
        }
      ]
    },
    {
      "cell_type": "code",
      "source": [],
      "metadata": {
        "id": "lIFXabbPqstS"
      },
      "execution_count": null,
      "outputs": []
    }
  ]
}