{
  "nbformat": 4,
  "nbformat_minor": 0,
  "metadata": {
    "colab": {
      "provenance": []
    },
    "kernelspec": {
      "name": "python3",
      "display_name": "Python 3"
    },
    "language_info": {
      "name": "python"
    }
  },
  "cells": [
    {
      "cell_type": "code",
      "execution_count": 2,
      "metadata": {
        "colab": {
          "base_uri": "https://localhost:8080/"
        },
        "id": "AcbeSU7tkP-m",
        "outputId": "73d7e577-c2ad-4820-eb9e-54e1627175d6"
      },
      "outputs": [
        {
          "output_type": "stream",
          "name": "stdout",
          "text": [
            "Name: Gayatri\n",
            "Age: 23\n"
          ]
        }
      ],
      "source": [
        "#ClASSES:\n",
        "#1.Define a class Person with name and age attributes\n",
        "class Person:\n",
        "    def __init__(self, name, age):\n",
        "        self.name = name\n",
        "        self.age = age\n",
        "\n",
        "# Create object and print attributes\n",
        "person1 = Person(\"Gayatri\", 23)\n",
        "print(\"Name:\", person1.name)\n",
        "print(\"Age:\", person1.age)\n"
      ]
    },
    {
      "cell_type": "code",
      "source": [
        "#2.Define a class Rectangle with length and bredth attributes\n",
        "class Rectangle:\n",
        "    def __init__(self, length, width):\n",
        "        self.length = length\n",
        "        self.width = width\n",
        "\n",
        "    def area(self):\n",
        "        return self.length * self.width\n",
        "\n",
        "# Create object and print area\n",
        "rect = Rectangle(5, 3)\n",
        "print(\"Area of rectangle:\", rect.area())\n"
      ],
      "metadata": {
        "colab": {
          "base_uri": "https://localhost:8080/"
        },
        "id": "SRqWeVxEout6",
        "outputId": "d8320bc5-c244-45aa-f7d1-1eb980925194"
      },
      "execution_count": 3,
      "outputs": [
        {
          "output_type": "stream",
          "name": "stdout",
          "text": [
            "Area of rectangle: 15\n"
          ]
        }
      ]
    },
    {
      "cell_type": "code",
      "source": [
        "#3.Bank Account with deposit and withdraw money\n",
        "class BankAccount:\n",
        "    def __init__(self):\n",
        "        self.balance = 0\n",
        "\n",
        "    def deposit(self, amount):\n",
        "        self.balance += amount\n",
        "        print(f\"Deposited: {amount}, New Balance: {self.balance}\")\n",
        "\n",
        "    def withdraw(self, amount):\n",
        "        if amount > self.balance:\n",
        "            print(\"Insufficient balance!\")\n",
        "        else:\n",
        "            self.balance -= amount\n",
        "            print(f\"Withdrawn: {amount}, New Balance: {self.balance}\")\n",
        "\n",
        "# Create object and test methods\n",
        "account = BankAccount()\n",
        "account.deposit(1000)\n",
        "account.withdraw(400)\n",
        "account.withdraw(700)\n"
      ],
      "metadata": {
        "colab": {
          "base_uri": "https://localhost:8080/"
        },
        "id": "dQ6tWeAQpSaw",
        "outputId": "ea8baaaf-a0fd-4989-d17f-48127124203b"
      },
      "execution_count": 4,
      "outputs": [
        {
          "output_type": "stream",
          "name": "stdout",
          "text": [
            "Deposited: 1000, New Balance: 1000\n",
            "Withdrawn: 400, New Balance: 600\n",
            "Insufficient balance!\n"
          ]
        }
      ]
    },
    {
      "cell_type": "code",
      "source": [
        "#4.Student with grade calculation\n",
        "class Student:\n",
        "    def __init__(self, name, marks):\n",
        "        self.name = name\n",
        "        self.marks = marks\n",
        "\n",
        "    def grade(self):\n",
        "        if self.marks >= 90:\n",
        "            return \"A\"\n",
        "        elif self.marks >= 75:\n",
        "            return \"B\"\n",
        "        elif self.marks >= 60:\n",
        "            return \"C\"\n",
        "        elif self.marks >= 40:\n",
        "            return \"D\"\n",
        "        else:\n",
        "            return \"F\"\n",
        "\n",
        "# Create object and print grade\n",
        "student1 = Student(\"Gayatri\", 95)\n",
        "print(f\"Student Name: {student1.name}\")\n",
        "print(f\"Marks: {student1.marks}\")\n",
        "print(f\"Grade: {student1.grade()}\")\n"
      ],
      "metadata": {
        "colab": {
          "base_uri": "https://localhost:8080/"
        },
        "id": "aTy9QSD2p7zq",
        "outputId": "cc5b5012-bf3c-4ee8-a66f-7af7dd812a4c"
      },
      "execution_count": 6,
      "outputs": [
        {
          "output_type": "stream",
          "name": "stdout",
          "text": [
            "Student Name: Gayatri\n",
            "Marks: 95\n",
            "Grade: A\n"
          ]
        }
      ]
    },
    {
      "cell_type": "code",
      "source": [
        "#5.Vehicle with subclass car\n",
        "class Vehicle:\n",
        "    def description(self):\n",
        "        print(\"This is a vehicle.\")\n",
        "\n",
        "class Car(Vehicle):\n",
        "    def description(self):\n",
        "        print(\"This is a car.\")\n",
        "\n",
        "# Create objects and test description\n",
        "v = Vehicle()\n",
        "v.description()\n",
        "\n",
        "c = Car()\n",
        "c.description()\n"
      ],
      "metadata": {
        "colab": {
          "base_uri": "https://localhost:8080/"
        },
        "id": "oEoOr8l3qaVf",
        "outputId": "c750b41c-ad65-4204-9029-0b5ba5f92f69"
      },
      "execution_count": 7,
      "outputs": [
        {
          "output_type": "stream",
          "name": "stdout",
          "text": [
            "This is a vehicle.\n",
            "This is a car.\n"
          ]
        }
      ]
    },
    {
      "cell_type": "code",
      "source": [
        "#FUNCTIONS:\n",
        "#1.Sum of two numbers\n",
        "def add_numbers(a, b):\n",
        "    return a + b\n",
        "\n",
        "# Example usage\n",
        "print(\"Sum:\", add_numbers(56, 79))\n"
      ],
      "metadata": {
        "colab": {
          "base_uri": "https://localhost:8080/"
        },
        "id": "CANU5UFJqybB",
        "outputId": "a9928612-8218-4f61-8051-92a5b7f4c776"
      },
      "execution_count": 9,
      "outputs": [
        {
          "output_type": "stream",
          "name": "stdout",
          "text": [
            "Sum: 135\n"
          ]
        }
      ]
    },
    {
      "cell_type": "code",
      "source": [
        "#2.Factorial using Recursion\n",
        "def factorial(n):\n",
        "    if n == 0 or n == 1:\n",
        "        return 1\n",
        "    else:\n",
        "        return n * factorial(n - 1)\n",
        "\n",
        "# Example usage\n",
        "print(\"Factorial of 5:\", factorial(5))\n"
      ],
      "metadata": {
        "colab": {
          "base_uri": "https://localhost:8080/"
        },
        "id": "YgYHMJnArnUf",
        "outputId": "53a87a43-c3a9-46bb-d9a5-83d026b9b303"
      },
      "execution_count": 10,
      "outputs": [
        {
          "output_type": "stream",
          "name": "stdout",
          "text": [
            "Factorial of 5: 120\n"
          ]
        }
      ]
    },
    {
      "cell_type": "code",
      "source": [
        "#3.Checks if number is prime or not\n",
        "def is_prime(n):\n",
        "    if n <= 1:\n",
        "        return False\n",
        "    for i in range(2, int(n**0.5) + 1):\n",
        "        if n % i == 0:\n",
        "            return False\n",
        "    return True\n",
        "\n",
        "# Example usage\n",
        "print(\"Is 7 prime?\", is_prime(7))\n",
        "print(\"Is 10 prime?\", is_prime(10))\n"
      ],
      "metadata": {
        "colab": {
          "base_uri": "https://localhost:8080/"
        },
        "id": "8YQxazV5r6R0",
        "outputId": "b95dfb2c-8d3b-4798-c0a3-b0b7054ddd00"
      },
      "execution_count": 11,
      "outputs": [
        {
          "output_type": "stream",
          "name": "stdout",
          "text": [
            "Is 7 prime? True\n",
            "Is 10 prime? False\n"
          ]
        }
      ]
    },
    {
      "cell_type": "code",
      "source": [
        "#4.Reverse of given string\n",
        "def reverse_string(s):\n",
        "    return s[::-1]\n",
        "\n",
        "# Example usage\n",
        "print(\"Reversed string:\", reverse_string(\"python class\"))\n"
      ],
      "metadata": {
        "colab": {
          "base_uri": "https://localhost:8080/"
        },
        "id": "JtmS6OS6sM3O",
        "outputId": "9f1f9e6f-4f23-4f36-a511-91960827a0cd"
      },
      "execution_count": 13,
      "outputs": [
        {
          "output_type": "stream",
          "name": "stdout",
          "text": [
            "Reversed string: ssalc nohtyp\n"
          ]
        }
      ]
    },
    {
      "cell_type": "code",
      "source": [
        "#5.Fibanocci Sequence\n",
        "def fibonacci(n):\n",
        "    sequence = []\n",
        "    a, b = 0, 1\n",
        "    for _ in range(n):\n",
        "        sequence.append(a)\n",
        "        a, b = b, a + b\n",
        "    return sequence\n",
        "\n",
        "# Example usage\n",
        "print(\"Fibonacci sequence (first 7 numbers):\", fibonacci(7))\n"
      ],
      "metadata": {
        "colab": {
          "base_uri": "https://localhost:8080/"
        },
        "id": "n9AGKXsusfRZ",
        "outputId": "7a6751df-4556-40a3-9522-c7128e5b9be5"
      },
      "execution_count": 14,
      "outputs": [
        {
          "output_type": "stream",
          "name": "stdout",
          "text": [
            "Fibonacci sequence (first 7 numbers): [0, 1, 1, 2, 3, 5, 8]\n"
          ]
        }
      ]
    }
  ]
}